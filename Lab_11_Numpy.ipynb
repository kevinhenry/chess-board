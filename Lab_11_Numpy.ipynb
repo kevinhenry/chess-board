{
  "nbformat": 4,
  "nbformat_minor": 0,
  "metadata": {
    "colab": {
      "name": "Lab 11 - Numpy.ipynb",
      "provenance": [],
      "collapsed_sections": [],
      "authorship_tag": "ABX9TyPZ3k0nWf0QkN+Xw1EqoRrS",
      "include_colab_link": true
    },
    "kernelspec": {
      "name": "python3",
      "display_name": "Python 3"
    },
    "language_info": {
      "name": "python"
    }
  },
  "cells": [
    {
      "cell_type": "markdown",
      "metadata": {
        "id": "view-in-github",
        "colab_type": "text"
      },
      "source": [
        "<a href=\"https://colab.research.google.com/github/kevinhenry/chess-board/blob/main/Lab_11_Numpy.ipynb\" target=\"_parent\"><img src=\"https://colab.research.google.com/assets/colab-badge.svg\" alt=\"Open In Colab\"/></a>"
      ]
    },
    {
      "cell_type": "code",
      "metadata": {
        "id": "IFaP52tsrsQT"
      },
      "source": [
        "# Create a chessboard grid 8x8"
      ],
      "execution_count": 1,
      "outputs": []
    },
    {
      "cell_type": "code",
      "metadata": {
        "id": "07E5nJ-yrwwE"
      },
      "source": [
        "import numpy as np\n",
        "import matplotlib.pyplot as plt"
      ],
      "execution_count": 2,
      "outputs": []
    },
    {
      "cell_type": "code",
      "metadata": {
        "id": "4rs6eZp4R_uz"
      },
      "source": [
        "class Board:\n",
        "    def __init__(self):\n",
        "        # create the board\n",
        "        self.grid = np.zeros((8,8,3))\n",
        "        self.grid[1::2, ::2] = 1\n",
        "        self.grid[::2, 1::2] = 1\n",
        "        self.blue_row = None\n",
        "        self.red_row = None\n",
        "        self.blue_column = None\n",
        "        self.red_column = None\n",
        "\n",
        "    def add_red(self, row, col):\n",
        "        red = (1,0,0)\n",
        "        self.grid[row, col] = red\n",
        "        self.red_row = row\n",
        "        self.red_column = col\n",
        "\n",
        "    def add_blue(self, row, col):   \n",
        "        blue = (0,0,1)\n",
        "        self.grid[row, col] = blue\n",
        "        self.blue_row = row\n",
        "        self.blue_column = col\n",
        "        \n",
        "    def render(self):\n",
        "        # display the board\n",
        "        plt.imshow(self.grid)\n",
        "\n",
        "    def is_under_attack(self):\n",
        "        if self.blue_row == self.red_row or self.blue_column == self.red_column:\n",
        "          return True\n",
        "\n",
        "        elif abs(self.red_column - self.blue_column) == abs(self.red_row - self.blue_row):\n",
        "          return True\n",
        "\n",
        "        else:\n",
        "          return False "
      ],
      "execution_count": 3,
      "outputs": []
    },
    {
      "cell_type": "code",
      "metadata": {
        "id": "oV9xyTwfSFeB",
        "colab": {
          "base_uri": "https://localhost:8080/",
          "height": 282
        },
        "outputId": "b0ab160a-1621-42ad-a6fd-fd9cc5a6811c"
      },
      "source": [
        "# True when on same row\n",
        "board = Board()\n",
        "board.add_red(3,6)\n",
        "board.add_blue(3,2)\n",
        "board.render()\n",
        "assert board.is_under_attack()\n",
        "print('****** UNDER ATTACK ******')"
      ],
      "execution_count": 4,
      "outputs": [
        {
          "output_type": "stream",
          "text": [
            "****** UNDER ATTACK ******\n"
          ],
          "name": "stdout"
        },
        {
          "output_type": "display_data",
          "data": {
            "image/png": "[encoded data removed]",
            "text/plain": [
              "<Figure size 432x288 with 1 Axes>"
            ]
          },
          "metadata": {
            "tags": [],
            "needs_background": "light"
          }
        }
      ]
    },
    {
      "cell_type": "code",
      "metadata": {
        "colab": {
          "base_uri": "https://localhost:8080/",
          "height": 282
        },
        "id": "i2wb2WDL68_f",
        "outputId": "16ff75eb-c717-418a-808d-7c2b9a3a30a1"
      },
      "source": [
        "# True when on same column\n",
        "board = Board()\n",
        "board.add_red(2,6)\n",
        "board.add_blue(5,6)\n",
        "board.render()\n",
        "assert board.is_under_attack()\n",
        "print('****** UNDER ATTACK ******')"
      ],
      "execution_count": 5,
      "outputs": [
        {
          "output_type": "stream",
          "text": [
            "****** UNDER ATTACK ******\n"
          ],
          "name": "stdout"
        },
        {
          "output_type": "display_data",
          "data": {
            "image/png": "[encoded data removed]",
            "text/plain": [
              "<Figure size 432x288 with 1 Axes>"
            ]
          },
          "metadata": {
            "tags": [],
            "needs_background": "light"
          }
        }
      ]
    },
    {
      "cell_type": "code",
      "metadata": {
        "colab": {
          "base_uri": "https://localhost:8080/",
          "height": 282
        },
        "id": "Mxa1Gj1HiiJx",
        "outputId": "f6bcf6a2-b425-4cad-cb9f-32591ef49647"
      },
      "source": [
        "# True when in same diagonal line\n",
        "board = Board()\n",
        "board.add_blue(1,1)\n",
        "board.add_red(5,5)\n",
        "board.render()\n",
        "assert board.is_under_attack()\n",
        "print('****** UNDER ATTACK *******')"
      ],
      "execution_count": 6,
      "outputs": [
        {
          "output_type": "stream",
          "text": [
            "****** UNDER ATTACK *******\n"
          ],
          "name": "stdout"
        },
        {
          "output_type": "display_data",
          "data": {
            "image/png": "[encoded data removed]",
            "text/plain": [
              "<Figure size 432x288 with 1 Axes>"
            ]
          },
          "metadata": {
            "tags": [],
            "needs_background": "light"
          }
        }
      ]
    },
    {
      "cell_type": "code",
      "metadata": {
        "id": "839ORRPxSJxf",
        "colab": {
          "base_uri": "https://localhost:8080/",
          "height": 282
        },
        "outputId": "a245bc83-70c2-4464-c8a4-79aea6466d53"
      },
      "source": [
        "# False when any other coords - NOT under attack\n",
        "board = Board()\n",
        "board.add_red(2,2)\n",
        "board.add_blue(6,4)\n",
        "board.render()\n",
        "assert not board.is_under_attack()\n",
        "print('****** NOT UNDER ATTACK ******')"
      ],
      "execution_count": 7,
      "outputs": [
        {
          "output_type": "stream",
          "text": [
            "****** NOT UNDER ATTACK ******\n"
          ],
          "name": "stdout"
        },
        {
          "output_type": "display_data",
          "data": {
            "image/png": "[encoded data removed]",
            "text/plain": [
              "<Figure size 432x288 with 1 Axes>"
            ]
          },
          "metadata": {
            "tags": [],
            "needs_background": "light"
          }
        }
      ]
    }
  ]
}