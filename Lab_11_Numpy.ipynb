{
  "nbformat": 4,
  "nbformat_minor": 0,
  "metadata": {
    "colab": {
      "name": "Lab 11 - Numpy.ipynb",
      "provenance": [],
      "collapsed_sections": [],
      "authorship_tag": "ABX9TyOvQzsBaA8WmCIzPEZUslz1",
      "include_colab_link": true
    },
    "kernelspec": {
      "name": "python3",
      "display_name": "Python 3"
    },
    "language_info": {
      "name": "python"
    }
  },
  "cells": [
    {
      "cell_type": "markdown",
      "metadata": {
        "id": "view-in-github",
        "colab_type": "text"
      },
      "source": [
        "<a href=\"https://colab.research.google.com/github/kevinhenry/chess-board/blob/main/Lab_11_Numpy.ipynb\" target=\"_parent\"><img src=\"https://colab.research.google.com/assets/colab-badge.svg\" alt=\"Open In Colab\"/></a>"
      ]
    },
    {
      "cell_type": "code",
      "metadata": {
        "id": "IFaP52tsrsQT"
      },
      "source": [
        "# Create a chessboard grid 8x8"
      ],
      "execution_count": 1,
      "outputs": []
    },
    {
      "cell_type": "code",
      "metadata": {
        "id": "07E5nJ-yrwwE"
      },
      "source": [
        "import numpy as np\n",
        "import matplotlib.pyplot as plt"
      ],
      "execution_count": 2,
      "outputs": []
    },
    {
      "cell_type": "code",
      "metadata": {
        "id": "4rs6eZp4R_uz"
      },
      "source": [
        "class Board:\n",
        "    def __init__(self):\n",
        "        # create the board\n",
        "        self.grid = np.zeros((8,8,3))\n",
        "        self.grid[1::2, ::2] = 1\n",
        "        self.grid[::2, 1::2] = 1\n",
        "        self.blue_row = None\n",
        "        self.red_row = None\n",
        "        self.blue_column = None\n",
        "        self.red_column = None\n",
        "\n",
        "    def add_red(self, row, col):\n",
        "        red = (1,0,0)\n",
        "        self.grid[row, col] = red\n",
        "        self.red_row = row\n",
        "        self.red_column = col\n",
        "\n",
        "    def add_blue(self, row, col):   \n",
        "        blue = (0,0,1)\n",
        "        self.grid[row, col] = blue\n",
        "        self.blue_row = row\n",
        "        self.blue_column = col\n",
        "        \n",
        "    def render(self):\n",
        "        # display the board\n",
        "        plt.imshow(self.grid)\n",
        "\n",
        "    def is_under_attack(self):\n",
        "        if self.blue_row == self.red_row or self.blue_column == self.red_column:\n",
        "          return True\n",
        "\n",
        "        elif abs(self.red_column - self.blue_column) == abs(self.red_row - self.blue_row):\n",
        "          return True\n",
        "\n",
        "        else:\n",
        "          return False "
      ],
      "execution_count": 3,
      "outputs": []
    },
    {
      "cell_type": "code",
      "metadata": {
        "id": "oV9xyTwfSFeB",
        "colab": {
          "base_uri": "https://localhost:8080/",
          "height": 282
        },
        "outputId": "0f62d9df-3547-4cdc-ee88-f0a63b540766"
      },
      "source": [
        "# True when on same row\n",
        "board = Board()\n",
        "board.add_red(3,6)\n",
        "board.add_blue(3,2)\n",
        "assert board.is_under_attack()\n",
        "print('****** UNDER ATTACK ******')\n",
        "board.render()"
      ],
      "execution_count": 4,
      "outputs": [
        {
          "output_type": "stream",
          "text": [
            "****** UNDER ATTACK ******\n"
          ],
          "name": "stdout"
        },
        {
          "output_type": "display_data",
          "data": {
            "image/png": "[encoded data removed]",
            "text/plain": [
              "<Figure size 432x288 with 1 Axes>"
            ]
          },
          "metadata": {
            "tags": [],
            "needs_background": "light"
          }
        }
      ]
    },
    {
      "cell_type": "code",
      "metadata": {
        "colab": {
          "base_uri": "https://localhost:8080/",
          "height": 282
        },
        "id": "i2wb2WDL68_f",
        "outputId": "ee591977-6a95-40c2-a69e-8a2bdb6e08a6"
      },
      "source": [
        "# True when on same column\n",
        "board = Board()\n",
        "board.add_red(2,6)\n",
        "board.add_blue(5,6)\n",
        "# print(board.is_under_attack())\n",
        "# assert board.is_under_attack()\n",
        "# print('****** UNDER ATTACK ******')\n",
        "board.render()\n",
        "board.is_under_attack()"
      ],
      "execution_count": 5,
      "outputs": [
        {
          "output_type": "execute_result",
          "data": {
            "text/plain": [
              "True"
            ]
          },
          "metadata": {
            "tags": []
          },
          "execution_count": 5
        },
        {
          "output_type": "display_data",
          "data": {
            "image/png": "[encoded data removed]",
            "text/plain": [
              "<Figure size 432x288 with 1 Axes>"
            ]
          },
          "metadata": {
            "tags": [],
            "needs_background": "light"
          }
        }
      ]
    },
    {
      "cell_type": "code",
      "metadata": {
        "colab": {
          "base_uri": "https://localhost:8080/",
          "height": 282
        },
        "id": "Mxa1Gj1HiiJx",
        "outputId": "33dcdc05-9621-4982-b8ae-5ec166eccbe7"
      },
      "source": [
        "# True when in same diagonal line\n",
        "board = Board()\n",
        "board.add_blue(1,1)\n",
        "board.add_red(5,5)\n",
        "assert board.is_under_attack()\n",
        "print('****** UNDER ATTACK *******')\n",
        "board.render()"
      ],
      "execution_count": 6,
      "outputs": [
        {
          "output_type": "stream",
          "text": [
            "****** UNDER ATTACK *******\n"
          ],
          "name": "stdout"
        },
        {
          "output_type": "display_data",
          "data": {
            "image/png": "[encoded data removed]",
            "text/plain": [
              "<Figure size 432x288 with 1 Axes>"
            ]
          },
          "metadata": {
            "tags": [],
            "needs_background": "light"
          }
        }
      ]
    },
    {
      "cell_type": "code",
      "metadata": {
        "id": "839ORRPxSJxf",
        "colab": {
          "base_uri": "https://localhost:8080/",
          "height": 282
        },
        "outputId": "1525601c-771a-4ad3-aacb-f27303f0a89c"
      },
      "source": [
        "# False when any other coords - NOT under attack\n",
        "board = Board()\n",
        "board.add_red(2,2)\n",
        "board.add_blue(5,5)\n",
        "# print('****** NOT UNDER ATTACK ******')\n",
        "board.render()\n",
        "# assert not board.is_under_attack()\n",
        "board.is_under_attack() == False\n",
        "# print(actual)\n",
        "# expected = False\n",
        "# assert actual == expected"
      ],
      "execution_count": 7,
      "outputs": [
        {
          "output_type": "execute_result",
          "data": {
            "text/plain": [
              "False"
            ]
          },
          "metadata": {
            "tags": []
          },
          "execution_count": 7
        },
        {
          "output_type": "display_data",
          "data": {
            "image/png": "[encoded data removed]",
            "text/plain": [
              "<Figure size 432x288 with 1 Axes>"
            ]
          },
          "metadata": {
            "tags": [],
            "needs_background": "light"
          }
        }
      ]
    }
  ]
}